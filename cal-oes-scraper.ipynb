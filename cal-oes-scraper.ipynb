{
 "cells": [
  {
   "cell_type": "markdown",
   "id": "88baf193",
   "metadata": {},
   "source": [
    "# Imports"
   ]
  },
  {
   "cell_type": "code",
   "execution_count": 12,
   "id": "9dbcd018",
   "metadata": {},
   "outputs": [],
   "source": [
    "# scraper libraries\n",
    "import json\n",
    "import requests\n",
    "import pandas as pd"
   ]
  },
  {
   "cell_type": "code",
   "execution_count": 13,
   "id": "31a9f908",
   "metadata": {},
   "outputs": [],
   "source": [
    "# google sheets libraries\n",
    "import gspread\n",
    "from oauth2client.service_account import ServiceAccountCredentials\n",
    "from gspread_dataframe import get_as_dataframe, set_with_dataframe\n",
    "from time import gmtime, strftime"
   ]
  },
  {
   "cell_type": "markdown",
   "id": "aa102206",
   "metadata": {},
   "source": [
    "# Google sheets setup"
   ]
  },
  {
   "cell_type": "code",
   "execution_count": 14,
   "id": "53ba8e9e",
   "metadata": {},
   "outputs": [],
   "source": [
    "# google sheets authentication\n",
    "scope = ['https://spreadsheets.google.com/feeds', 'https://www.googleapis.com/auth/drive']\n",
    "credentials = ServiceAccountCredentials.from_json_keyfile_name('auth.json', scope)\n",
    "gc = gspread.authorize(credentials)"
   ]
  },
  {
   "cell_type": "code",
   "execution_count": 15,
   "id": "9f9e7fbd",
   "metadata": {},
   "outputs": [],
   "source": [
    "# access sheet\n",
    "sht = gc.open_by_url('https://docs.google.com/spreadsheets/d/1WVH-SQ0ziAxLeEm2dm5P3i31Mmr9jmWYWwcMRd6vZGc/edit?usp=sharing')\n",
    "tab = sht.worksheet(\"test\")"
   ]
  },
  {
   "cell_type": "markdown",
   "id": "5d4a34ba",
   "metadata": {},
   "source": [
    "# Constants"
   ]
  },
  {
   "cell_type": "code",
   "execution_count": 16,
   "id": "cd1e5d18",
   "metadata": {},
   "outputs": [],
   "source": [
    "# api url\n",
    "url = \"https://services.arcgis.com/BLN4oKB0N1YSgvY8/arcgis/rest/services/Power_Outages_(View)/FeatureServer/0/query?outFields=*&where=1%3D1&f=geojson\""
   ]
  },
  {
   "cell_type": "code",
   "execution_count": 17,
   "id": "d01c3260",
   "metadata": {},
   "outputs": [],
   "source": [
    "# counties to pull data for\n",
    "bay_counties = [\"ALAMEDA\", \"CONTRA COSTA\", \"MARIN\", \"NAPA\", \"SAN FRANCISCO\", \"SAN MATEO\", \"SANTA CLARA\", \"SOLANO\", \"SONOMA\"]"
   ]
  },
  {
   "cell_type": "markdown",
   "id": "abd99241",
   "metadata": {},
   "source": [
    "# Scrape"
   ]
  },
  {
   "cell_type": "code",
   "execution_count": 18,
   "id": "eb240ecb",
   "metadata": {
    "scrolled": false
   },
   "outputs": [],
   "source": [
    "# fetch url\n",
    "r = requests.get(url)\n",
    "# put features from geojson into df\n",
    "data = json.loads(r.content)\n",
    "df = pd.DataFrame.from_dict(data[\"features\"])"
   ]
  },
  {
   "cell_type": "code",
   "execution_count": 19,
   "id": "d2523157",
   "metadata": {
    "scrolled": false
   },
   "outputs": [],
   "source": [
    "# expand properties column into multiple columns\n",
    "properties_df = pd.DataFrame.from_dict(list(df[\"properties\"]))\n",
    "df.drop(columns=\"properties\", inplace=True)\n",
    "# append properties column to original df\n",
    "df = pd.concat([df, properties_df], axis=1)"
   ]
  },
  {
   "cell_type": "code",
   "execution_count": 20,
   "id": "a707ed92",
   "metadata": {},
   "outputs": [],
   "source": [
    "# filter for bay area counties\n",
    "bay_df = df.loc[df[\"County\"].isin(bay_counties)]"
   ]
  },
  {
   "cell_type": "code",
   "execution_count": 21,
   "id": "259b2df5",
   "metadata": {
    "scrolled": false
   },
   "outputs": [],
   "source": [
    "# filter for PGE outages\n",
    "pge_df = bay_df.loc[df[\"UtilityCompany\"] == \"PGE\"]\n",
    "pge_df.to_csv(\"oes_pge_outages_actions.csv\")"
   ]
  },
  {
   "cell_type": "markdown",
   "id": "249c83eb",
   "metadata": {},
   "source": [
    "# Push to Google sheets"
   ]
  },
  {
   "cell_type": "code",
   "execution_count": 22,
   "id": "626c2831",
   "metadata": {},
   "outputs": [],
   "source": [
    "# clear existing data, push data from dataframe\n",
    "tab.clear()\n",
    "set_with_dataframe(tab, pge_df)"
   ]
  }
 ],
 "metadata": {
  "kernelspec": {
   "display_name": "Python 3 (ipykernel)",
   "language": "python",
   "name": "python3"
  },
  "language_info": {
   "codemirror_mode": {
    "name": "ipython",
    "version": 3
   },
   "file_extension": ".py",
   "mimetype": "text/x-python",
   "name": "python",
   "nbconvert_exporter": "python",
   "pygments_lexer": "ipython3",
   "version": "3.11.8"
  }
 },
 "nbformat": 4,
 "nbformat_minor": 5
}
